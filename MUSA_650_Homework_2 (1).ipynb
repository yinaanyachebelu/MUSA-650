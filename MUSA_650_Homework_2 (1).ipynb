{
 "cells": [
  {
   "cell_type": "markdown",
   "metadata": {},
   "source": [
    "## HW2 - Basics of ML\n",
    "Include your code in the relevant cells below.\n",
    "Subparts labeled as questions (Q1.1, Q1.2, etc.) should have their answers filled in or plots placed prominently, as appropriate."
   ]
  },
  {
   "cell_type": "markdown",
   "metadata": {},
   "source": [
    "### S1: Understanding the data\n",
    "- Load MNIST Fashion training and testing datasets with reduced size (n6000 for training and n1000 for testing)\n",
    "https://drive.google.com/drive/folders/10HpS26ZPhUXaJ8FrEMuUD01-aSjoTfC7?usp=sharing\n",
    "- Visualize a few of the images to check the data and labels\n",
    "- Normalize (scale) the data\n",
    "\n",
    "Q1.1: What is the number of features in this dataset:   ___\n",
    "\n",
    "Q1.2: What is the number of samples in this dataset:   ___\n",
    "\n",
    "Q1.3: What is the dimensionality of each data sample: ___"
   ]
  },
  {
   "cell_type": "code",
   "execution_count": null,
   "metadata": {},
   "outputs": [],
   "source": []
  },
  {
   "cell_type": "markdown",
   "metadata": {},
   "source": [
    "### S2: k-Nearest Neighbors\n",
    "- Train a k-nearest neighbors classifier using the training data with k=5. \n",
    "- Apply the trained model to predict labels of test samples\n",
    "- Repeat training/testing for k=1 to 20\n",
    "\n",
    "Q2.1: Plot the testing accuracy with k\n",
    "\n",
    "Q2.2: What is the prediction accuracy:   ___\n",
    "\n",
    "Q2.3: What is the max prediction accuracy and optimal k:   ___"
   ]
  },
  {
   "cell_type": "code",
   "execution_count": null,
   "metadata": {},
   "outputs": [],
   "source": []
  },
  {
   "cell_type": "markdown",
   "metadata": {},
   "source": [
    "### S3: k-NN Error Analysis\n",
    "- Analyze the errors in classification for model with k=5 (hint: a \"confusion matrix\" may help to see them all together)\n",
    "\n",
    "Q3.1: What is the label that was predicted with lowest accuracy:   ___\n",
    "\n",
    "Q3.2: What is the label pair that was confused most often (i.e. class A is labeled as B, and vice versa):   ___\n",
    "\n",
    "Q3.3: Visualize 5 mislabeled samples with their actual and predicted labels"
   ]
  },
  {
   "cell_type": "code",
   "execution_count": null,
   "metadata": {},
   "outputs": [],
   "source": []
  },
  {
   "cell_type": "markdown",
   "metadata": {},
   "source": [
    "### S4: Support Vector Machines\n",
    "- Train an SVM classifier using the default parameters. \n",
    "- Apply the trained model to predict the labels of test samples\n",
    "\n",
    "Q4.1: What is the prediction accuracy:   ___\n",
    "\n",
    "Q4.2: Which model performed best in your experiments so far:  ___"
   ]
  },
  {
   "cell_type": "code",
   "execution_count": null,
   "metadata": {},
   "outputs": [],
   "source": []
  },
  {
   "cell_type": "markdown",
   "metadata": {},
   "source": [
    "### S5: Principal Component Analysis\n",
    "- Apply PCA with n=30 components (on initial data without scaling)\n",
    "\n",
    "Q5.1: Plot the variance ratio explained by principal components\n",
    "\n",
    "Q5.2: What is the variance ratio explained by the first PCA component: ___\n",
    "\n",
    "Q5.3: What is the total variance ratio explained by the first 5 PCA components: ___"
   ]
  },
  {
   "cell_type": "code",
   "execution_count": null,
   "metadata": {},
   "outputs": [],
   "source": []
  },
  {
   "cell_type": "markdown",
   "metadata": {},
   "source": [
    "### S6: k-NN using PCA\n",
    "- Train a k-nearest neighbor model using the PCA coefficients with n=5 components (using the optimal k from S2)\n",
    "- Apply the model on the PCA coefficients of test samples\n",
    "- Repeat training/testing for number of PCA coefficients n=1 to 40\n",
    "\n",
    "Q6.1: What is the prediction accuracy using only n=5 coefficients: ___\n",
    "\n",
    "Q6.2: What is the max prediction accuracy using more coefficients: ___\n",
    "\n",
    "Q6.3: Comment on the results. What is your conclusion about the use of low dimensional data for classification: ___"
   ]
  },
  {
   "cell_type": "code",
   "execution_count": null,
   "metadata": {},
   "outputs": [],
   "source": []
  },
  {
   "cell_type": "markdown",
   "metadata": {},
   "source": [
    "### S7:\n",
    "- Train an SVM model using the PCA coefficients with n=5 components (using default parameters of SVM)\n",
    "- Apply the model on the PCA coefficients of test samples\n",
    "- Repeat training/testing for number of PCA coefficients n=1 to 40\n",
    "\n",
    "Q7.1: What is the prediction accuracy using only n=5 coefficients: ___\n",
    "\n",
    "Q7.2: What is the max prediction accuracy using more coefficients: ___"
   ]
  },
  {
   "cell_type": "code",
   "execution_count": null,
   "metadata": {},
   "outputs": [],
   "source": []
  },
  {
   "cell_type": "markdown",
   "metadata": {},
   "source": [
    "### S8:\n",
    "- Create a new feature vector for each image by selecting n random pixels from each image (instead of a PCA transform)\n",
    "- Run the k-NN with the optimal k from S2, as you did in S6, using these random pixel features.\n",
    "- Train an SVM using default parameters, as you did in S7, using these random pixel features.\n",
    "\n",
    "Q8.1: What is the prediction accuracy using only n=5 features: ___\n",
    "\n",
    "Q8.2: What is the prediction accuracy using n=30 features: ___\n",
    "\n",
    "Q8.3: What is the prediction accuracy using n=60 features: ___\n",
    "\n",
    "Q8.4: Comment on the results. Is random selection of pixels an acceptable approach? Why or why not: ___"
   ]
  },
  {
   "cell_type": "code",
   "execution_count": null,
   "metadata": {},
   "outputs": [],
   "source": []
  }
 ],
 "metadata": {
  "kernelspec": {
   "display_name": "Python 3",
   "language": "python",
   "name": "python3"
  },
  "language_info": {
   "codemirror_mode": {
    "name": "ipython",
    "version": 3
   },
   "file_extension": ".py",
   "mimetype": "text/x-python",
   "name": "python",
   "nbconvert_exporter": "python",
   "pygments_lexer": "ipython3",
   "version": "3.7.7"
  }
 },
 "nbformat": 4,
 "nbformat_minor": 2
}
