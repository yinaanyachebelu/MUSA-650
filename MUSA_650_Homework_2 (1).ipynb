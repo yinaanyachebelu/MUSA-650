{
 "cells": [
  {
   "cell_type": "markdown",
   "metadata": {},
   "source": [
    "## HW2 - Basics of ML\n",
    "Include your code in the relevant cells below.\n",
    "Subparts labeled as questions (Q1.1, Q1.2, etc.) should have their answers filled in or plots placed prominently, as appropriate."
   ]
  },
  {
   "cell_type": "markdown",
   "metadata": {},
   "source": [
    "### S1: Understanding the data\n",
    "- Load MNIST Fashion training and testing datasets with reduced size (n6000 for training and n1000 for testing)\n",
    "https://drive.google.com/drive/folders/10HpS26ZPhUXaJ8FrEMuUD01-aSjoTfC7?usp=sharing\n",
    "- Visualize a few of the images to check the data and labels\n",
    "- Normalize (scale) the data\n",
    "\n",
    "Q1.1: What is the number of features in this dataset:   ___\n",
    "\n",
    "Q1.2: What is the number of samples in this dataset:   ___\n",
    "\n",
    "Q1.3: What is the dimensionality of each data sample: ___"
   ]
  },
  {
   "cell_type": "code",
   "execution_count": 1,
   "metadata": {},
   "outputs": [
    {
     "data": {
      "text/plain": [
       "'C:\\\\Users\\\\User\\\\MUSA\\\\project 1'"
      ]
     },
     "execution_count": 1,
     "metadata": {},
     "output_type": "execute_result"
    }
   ],
   "source": [
    "pwd"
   ]
  },
  {
   "cell_type": "code",
   "execution_count": 1,
   "metadata": {},
   "outputs": [],
   "source": [
    "%matplotlib inline\n",
    "import pandas as pd\n",
    "import numpy as np\n",
    "from PIL import Image, ImageFilter, ImageOps\n",
    "import matplotlib.pyplot as plt\n",
    "import sklearn\n",
    "\n",
    "\n",
    "## Hardcoded input args\n",
    "train_data = 'C:\\\\Users\\\\User\\\\OneDrive\\\\Desktop\\\\Spring 2021\\\\MUSA\\\\fashion-mnist_train_n6000.csv'\n",
    "test_data = 'C:\\\\Users\\\\User\\\\OneDrive\\\\Desktop\\\\Spring 2021\\\\MUSA\\\\fashion-mnist_test_n1000.csv'\n",
    "\n",
    "df_train = pd.read_csv(train_data)\n",
    "df_test = pd.read_csv(test_data)\n",
    "\n",
    "x_tr=df_train.iloc[:,1:].values\n",
    "y_train=df_train.iloc[:,0].values\n",
    "x_te=df_test.iloc[:,1:].values\n",
    "y_test=df_test.iloc[:,0].values\n",
    "\n",
    "categories = ['T-shirt/top', 'Trouser', 'Pullover', 'Dress', 'Coat', \\\n",
    "               'Sandal', 'Shirt', 'Sneaker', 'Bag', 'Ankle boot']"
   ]
  },
  {
   "cell_type": "code",
   "execution_count": 4,
   "metadata": {},
   "outputs": [
    {
     "data": {
      "text/plain": [
       "(6000, 785)"
      ]
     },
     "execution_count": 4,
     "metadata": {},
     "output_type": "execute_result"
    }
   ],
   "source": [
    "df_train.shape"
   ]
  },
  {
   "cell_type": "code",
   "execution_count": 2,
   "metadata": {},
   "outputs": [
    {
     "name": "stdout",
     "output_type": "stream",
     "text": [
      "Label Sandal\n"
     ]
    },
    {
     "data": {
      "image/png": "[encoded data removed]",
      "text/plain": [
       "<Figure size 432x288 with 2 Axes>"
      ]
     },
     "metadata": {
      "needs_background": "light"
     },
     "output_type": "display_data"
    }
   ],
   "source": [
    "idx = 4000\n",
    "Img = x_tr[idx].reshape(28,28)\n",
    "Label = y_train[idx]\n",
    "\n",
    "plt.imshow(Img, cmap=plt.cm.binary)\n",
    "plt.colorbar()\n",
    "print('Label ' + categories[Label])"
   ]
  },
  {
   "cell_type": "code",
   "execution_count": 3,
   "metadata": {},
   "outputs": [
    {
     "data": {
      "text/plain": [
       "(6000, 785)"
      ]
     },
     "execution_count": 3,
     "metadata": {},
     "output_type": "execute_result"
    }
   ],
   "source": [
    "df_train.shape"
   ]
  },
  {
   "cell_type": "code",
   "execution_count": 3,
   "metadata": {},
   "outputs": [],
   "source": [
    "# scaling\n",
    "from sklearn.preprocessing import StandardScaler\n",
    "sc = StandardScaler()\n",
    "x_train = sc.fit_transform(x_tr)\n",
    "x_test = sc.fit_transform(x_te)"
   ]
  },
  {
   "cell_type": "code",
   "execution_count": 4,
   "metadata": {},
   "outputs": [
    {
     "name": "stdout",
     "output_type": "stream",
     "text": [
      "Num of Features 784\n",
      "Num of Samples (train + test): 7000\n",
      "Dimensionality: 784\n"
     ]
    }
   ],
   "source": [
    "# Q1\n",
    "print(f\"Num of Features {df_train.shape[1]-1}\")\n",
    "print(f\"Num of Samples (train + test): {df_train.shape[0] + df_test.shape[0]}\")\n",
    "print(f\"Dimensionality: {df_train.shape[1]-1}\")"
   ]
  },
  {
   "cell_type": "markdown",
   "metadata": {},
   "source": [
    "### S2: k-Nearest Neighbors\n",
    "- Train a k-nearest neighbors classifier using the training data with k=5. \n",
    "- Apply the trained model to predict labels of test samples\n",
    "- Repeat training/testing for k=1 to 20\n",
    "\n",
    "Q2.1: Plot the testing accuracy with k\n",
    "\n",
    "Q2.2: What is the prediction accuracy:   ___\n",
    "\n",
    "Q2.3: What is the max prediction accuracy and optimal k:   ___"
   ]
  },
  {
   "cell_type": "code",
   "execution_count": 5,
   "metadata": {},
   "outputs": [
    {
     "name": "stdout",
     "output_type": "stream",
     "text": [
      "accuracy k=5: 0.827\n"
     ]
    }
   ],
   "source": [
    "from sklearn.neighbors import KNeighborsClassifier\n",
    "from sklearn.metrics import accuracy_score\n",
    "kclass= KNeighborsClassifier(n_neighbors=5)\n",
    "\n",
    "kclass.fit(x_train,y_train)\n",
    "y_pred=kclass.predict(x_test)\n",
    "print(f\"accuracy k=5: {accuracy_score(y_test,y_pred)}\")"
   ]
  },
  {
   "cell_type": "code",
   "execution_count": 6,
   "metadata": {},
   "outputs": [
    {
     "data": {
      "text/plain": [
       "[<matplotlib.lines.Line2D at 0x245605c91f0>]"
      ]
     },
     "execution_count": 6,
     "metadata": {},
     "output_type": "execute_result"
    },
    {
     "data": {
      "image/png": "[encoded data removed]",
      "text/plain": [
       "<Figure size 432x288 with 1 Axes>"
      ]
     },
     "metadata": {
      "needs_background": "light"
     },
     "output_type": "display_data"
    }
   ],
   "source": [
    "import array as arr\n",
    "ks = arr.array('d',[])\n",
    "acc =arr.array('d',[])\n",
    "\n",
    "a=[1,2,3,4,5,6,7,8,9,10,11,12,13,14,15,16,17,18,19,20]\n",
    "for element in a:\n",
    "    ks.append(element)\n",
    "    kclass= KNeighborsClassifier(n_neighbors=element)\n",
    "    kclass.fit(x_train,y_train)\n",
    "    y_pred=kclass.predict(x_test)\n",
    "    acc.append(accuracy_score(y_test,y_pred))\n",
    "\n",
    "plt.plot(ks,acc)"
   ]
  },
  {
   "cell_type": "code",
   "execution_count": 7,
   "metadata": {},
   "outputs": [
    {
     "name": "stdout",
     "output_type": "stream",
     "text": [
      "array('d', [0.827, 0.806, 0.818, 0.821, 0.827, 0.817, 0.813, 0.817, 0.807, 0.812, 0.815, 0.814, 0.808, 0.809, 0.814, 0.807, 0.811, 0.802, 0.8, 0.804])\n",
      "Max prediction accuracy: 0.827\n",
      "optimal k: 1\n"
     ]
    }
   ],
   "source": [
    "#Q2.1 - 2.3\n",
    "print(acc)\n",
    "print(f\"Max prediction accuracy: {max(acc)}\")\n",
    "print(f\"optimal k: {np.argmax(acc)+1}\")"
   ]
  },
  {
   "cell_type": "markdown",
   "metadata": {},
   "source": [
    "### S3: k-NN Error Analysis\n",
    "- Analyze the errors in classification for model with k=5 (hint: a \"confusion matrix\" may help to see them all together)\n",
    "\n",
    "Q3.1: What is the label that was predicted with lowest accuracy:   ___\n",
    "\n",
    "Q3.2: What is the label pair that was confused most often (i.e. class A is labeled as B, and vice versa):   ___\n",
    "\n",
    "Q3.3: Visualize 5 mislabeled samples with their actual and predicted labels"
   ]
  },
  {
   "cell_type": "code",
   "execution_count": 8,
   "metadata": {},
   "outputs": [
    {
     "data": {
      "text/plain": [
       "array([[83,  0,  1,  4,  2,  0,  8,  0,  2,  0],\n",
       "       [ 2, 93,  1,  2,  0,  0,  2,  0,  0,  0],\n",
       "       [ 2,  0, 77,  2,  7,  0, 12,  0,  0,  0],\n",
       "       [ 4,  1,  1, 86,  6,  0,  2,  0,  0,  0],\n",
       "       [ 0,  0,  9,  4, 79,  0,  7,  0,  1,  0],\n",
       "       [ 1,  0,  1,  0,  0, 80,  0, 10,  0,  8],\n",
       "       [13,  0, 18,  5,  8,  0, 56,  0,  0,  0],\n",
       "       [ 0,  0,  0,  0,  0,  1,  0, 95,  0,  4],\n",
       "       [ 0,  0,  1,  0,  2,  0,  4,  2, 89,  2],\n",
       "       [ 0,  0,  0,  0,  0,  0,  0, 11,  0, 89]], dtype=int64)"
      ]
     },
     "execution_count": 8,
     "metadata": {},
     "output_type": "execute_result"
    }
   ],
   "source": [
    "from sklearn.metrics import confusion_matrix\n",
    "kclass= KNeighborsClassifier(n_neighbors=5)\n",
    "\n",
    "kclass.fit(x_train,y_train)\n",
    "y_pred=kclass.predict(x_test)\n",
    "cm = confusion_matrix(y_test,y_pred)\n",
    "cm"
   ]
  },
  {
   "cell_type": "markdown",
   "metadata": {},
   "source": [
    "ANSWERS\n",
    "\n",
    "Q3.1 Answer: Shirt (label 7 out of 10) was predicted with the lowest accuracy. Only 56 of the 100 pieces were labelled correctly \n",
    "\n",
    "Q3.2 Answer: Shirt (label 7) was incorrectly labelled as pullover (label 3) the most often. This happened 18 times. Pullover was incorrectly labelled as a shirt 12 times"
   ]
  },
  {
   "cell_type": "code",
   "execution_count": 9,
   "metadata": {},
   "outputs": [
    {
     "name": "stdout",
     "output_type": "stream",
     "text": [
      "Actual Label: Sandal\n",
      "Predicted Label: Coat\n",
      "Actual Label: Trouser\n",
      "Predicted Label: Sneaker\n",
      "Actual Label: Sneaker\n",
      "Predicted Label: Sneaker\n",
      "Actual Label: Sandal\n",
      "Predicted Label: Dress\n",
      "Actual Label: Dress\n",
      "Predicted Label: Shirt\n"
     ]
    },
    {
     "data": {
      "image/png": "[encoded data removed]",
      "text/plain": [
       "<Figure size 648x648 with 5 Axes>"
      ]
     },
     "metadata": {},
     "output_type": "display_data"
    }
   ],
   "source": [
    "#Q3.3: visualizing 5 mislabeled samples with their actual and predicrted labels\n",
    "e = np.where(y_test != y_pred)[0]\n",
    "\n",
    "plt.figure(figsize=(9,9))\n",
    "\n",
    "for i in range(5):\n",
    "    plt.subplot(2,3,i+1)\n",
    "    plt.xticks([])\n",
    "    plt.yticks([])\n",
    "    plt.imshow(x_tr[e[i]].reshape(28,28), cmap=plt.cm.binary)\n",
    "    print('Actual Label: ' + categories[y_train[e[i]]])\n",
    "    print('Predicted Label: ' + categories[y_pred[e[i]]])\n",
    "plt.tight_layout    \n",
    "plt.show()\n",
    "\n"
   ]
  },
  {
   "cell_type": "markdown",
   "metadata": {},
   "source": [
    "### S4: Support Vector Machines\n",
    "- Train an SVM classifier using the default parameters. \n",
    "- Apply the trained model to predict the labels of test samples\n",
    "\n",
    "Q4.1: What is the prediction accuracy:   ___\n",
    "\n",
    "Q4.2: Which model performed best in your experiments so far:  ___"
   ]
  },
  {
   "cell_type": "code",
   "execution_count": 10,
   "metadata": {},
   "outputs": [
    {
     "name": "stdout",
     "output_type": "stream",
     "text": [
      "SVM prediction accuracy: 0.844 > highest K-NN prediction accuracy of 0.827\n"
     ]
    }
   ],
   "source": [
    "from sklearn import svm\n",
    "svmC = svm.SVC(kernel=)\n",
    "svmC.fit(x_train, y_train)\n",
    "y_pred=svmC.predict(x_test)\n",
    "print(f\"SVM prediction accuracy: {accuracy_score(y_test,y_pred)} > highest K-NN prediction accuracy of 0.827\")"
   ]
  },
  {
   "cell_type": "markdown",
   "metadata": {},
   "source": [
    "### S5: Principal Component Analysis\n",
    "- Apply PCA with n=30 components (on initial data without scaling)\n",
    "\n",
    "Q5.1: Plot the variance ratio explained by principal components\n",
    "\n",
    "Q5.2: What is the variance ratio explained by the first PCA component: ___\n",
    "\n",
    "Q5.3: What is the total variance ratio explained by the first 5 PCA components: ___"
   ]
  },
  {
   "cell_type": "code",
   "execution_count": 11,
   "metadata": {},
   "outputs": [
    {
     "data": {
      "text/plain": [
       "[<matplotlib.lines.Line2D at 0x24560929880>]"
      ]
     },
     "execution_count": 11,
     "metadata": {},
     "output_type": "execute_result"
    },
    {
     "data": {
      "image/png": "[encoded data removed]",
      "text/plain": [
       "<Figure size 432x288 with 1 Axes>"
      ]
     },
     "metadata": {
      "needs_background": "light"
     },
     "output_type": "display_data"
    }
   ],
   "source": [
    "#Q5.1\n",
    "from sklearn.decomposition import PCA\n",
    "pca=PCA(n_components=30)\n",
    "x_train_pca = pca.fit_transform(x_tr)\n",
    "x_test_pca = pca.transform(x_te)\n",
    "plt.plot(pca.explained_variance_ratio_)"
   ]
  },
  {
   "cell_type": "code",
   "execution_count": 12,
   "metadata": {},
   "outputs": [
    {
     "data": {
      "text/plain": [
       "0.2878053248783098"
      ]
     },
     "execution_count": 12,
     "metadata": {},
     "output_type": "execute_result"
    }
   ],
   "source": [
    "#Q5.2\n",
    "pca.explained_variance_ratio_[0]"
   ]
  },
  {
   "cell_type": "code",
   "execution_count": 13,
   "metadata": {},
   "outputs": [
    {
     "data": {
      "text/plain": [
       "0.6148325269552017"
      ]
     },
     "execution_count": 13,
     "metadata": {},
     "output_type": "execute_result"
    }
   ],
   "source": [
    "#Q5.3\n",
    "np.cumsum(pca.explained_variance_ratio_)[4]"
   ]
  },
  {
   "cell_type": "raw",
   "metadata": {},
   "source": [
    "### S6: k-NN using PCA\n",
    "- Train a k-nearest neighbor model using the PCA coefficients with n=5 components (using the optimal k from S2)\n",
    "- Apply the model on the PCA coefficients of test samples\n",
    "- Repeat training/testing for number of PCA coefficients n=1 to 40\n",
    "\n",
    "Q6.1: What is the prediction accuracy using only n=5 coefficients: ___\n",
    "\n",
    "Q6.2: What is the max prediction accuracy using more coefficients: ___\n",
    "\n",
    "Q6.3: Comment on the results. What is your conclusion about the use of low dimensional data for classification: ___"
   ]
  },
  {
   "cell_type": "code",
   "execution_count": 14,
   "metadata": {},
   "outputs": [
    {
     "name": "stdout",
     "output_type": "stream",
     "text": [
      "accuracy with 5 components: 0.679\n"
     ]
    }
   ],
   "source": [
    "#Q6.1\n",
    "kclass= KNeighborsClassifier(n_neighbors=1)\n",
    "pca=PCA(n_components=5)\n",
    "x_train_pca = pca.fit_transform(x_train)\n",
    "x_test_pca = pca.transform(x_test)\n",
    "kclass.fit(x_train_pca, y_train)\n",
    "y_pred_pca=kclass.predict(x_test_pca)\n",
    "\n",
    "print(f\"accuracy with 5 components: {accuracy_score(y_test, y_pred_pca)}\")"
   ]
  },
  {
   "cell_type": "code",
   "execution_count": 15,
   "metadata": {},
   "outputs": [
    {
     "name": "stdout",
     "output_type": "stream",
     "text": [
      "Number of components: 1 , accuracy: 0.198\n",
      "Number of components: 2 , accuracy: 0.457\n",
      "Number of components: 3 , accuracy: 0.538\n",
      "Number of components: 4 , accuracy: 0.62\n",
      "Number of components: 5 , accuracy: 0.679\n",
      "Number of components: 6 , accuracy: 0.693\n",
      "Number of components: 7 , accuracy: 0.709\n",
      "Number of components: 8 , accuracy: 0.724\n",
      "Number of components: 9 , accuracy: 0.724\n",
      "Number of components: 10 , accuracy: 0.728\n",
      "Number of components: 11 , accuracy: 0.739\n",
      "Number of components: 12 , accuracy: 0.737\n",
      "Number of components: 13 , accuracy: 0.736\n",
      "Number of components: 14 , accuracy: 0.75\n",
      "Number of components: 15 , accuracy: 0.758\n",
      "Number of components: 16 , accuracy: 0.763\n",
      "Number of components: 17 , accuracy: 0.768\n",
      "Number of components: 18 , accuracy: 0.767\n",
      "Number of components: 19 , accuracy: 0.778\n",
      "Number of components: 20 , accuracy: 0.78\n",
      "Number of components: 21 , accuracy: 0.776\n",
      "Number of components: 22 , accuracy: 0.787\n",
      "Number of components: 23 , accuracy: 0.784\n",
      "Number of components: 24 , accuracy: 0.785\n",
      "Number of components: 25 , accuracy: 0.783\n",
      "Number of components: 26 , accuracy: 0.784\n",
      "Number of components: 27 , accuracy: 0.784\n",
      "Number of components: 28 , accuracy: 0.786\n",
      "Number of components: 29 , accuracy: 0.785\n",
      "Number of components: 30 , accuracy: 0.791\n",
      "Number of components: 31 , accuracy: 0.793\n",
      "Number of components: 32 , accuracy: 0.802\n",
      "Number of components: 33 , accuracy: 0.795\n",
      "Number of components: 34 , accuracy: 0.798\n",
      "Number of components: 35 , accuracy: 0.798\n",
      "Number of components: 36 , accuracy: 0.791\n",
      "Number of components: 37 , accuracy: 0.797\n",
      "Number of components: 38 , accuracy: 0.801\n",
      "Number of components: 39 , accuracy: 0.797\n",
      "Number of components: 40 , accuracy: 0.796\n",
      "max prediction accuracy: 0.802\n"
     ]
    }
   ],
   "source": [
    "#Q6.2\n",
    "accuracy=[]\n",
    "\n",
    "for i in range (1,41):\n",
    "    pca = PCA(n_components= i)\n",
    "    x_train_pca = pca.fit_transform(x_train)\n",
    "    x_test_pca = pca.transform(x_test)\n",
    "    \n",
    "    kclass.fit(x_train_pca, y_train)\n",
    "    \n",
    "    y_pred_pca=kclass.predict(x_test_pca)\n",
    "    \n",
    "    accscore = accuracy_score(y_test,y_pred_pca)\n",
    "    \n",
    "    print('Number of components: ' + str(i) + ' , accuracy: ' + str(accscore))\n",
    "    \n",
    "    accuracy.append(accscore)\n",
    "\n",
    "print(f\"max prediction accuracy: {max(accuracy)}\")"
   ]
  },
  {
   "cell_type": "markdown",
   "metadata": {},
   "source": [
    "6.3 Answer: The results above shows that the increase in the accuracy from raising the number of components decreases as you add more components"
   ]
  },
  {
   "cell_type": "markdown",
   "metadata": {},
   "source": [
    "### S7:\n",
    "- Train an SVM model using the PCA coefficients with n=5 components (using default parameters of SVM)\n",
    "- Apply the model on the PCA coefficients of test samples\n",
    "- Repeat training/testing for number of PCA coefficients n=1 to 40\n",
    "\n",
    "Q7.1: What is the prediction accuracy using only n=5 coefficients: ___\n",
    "\n",
    "Q7.2: What is the max prediction accuracy using more coefficients: ___"
   ]
  },
  {
   "cell_type": "code",
   "execution_count": 16,
   "metadata": {},
   "outputs": [
    {
     "name": "stdout",
     "output_type": "stream",
     "text": [
      "accuracy with 5 components: 0.718\n"
     ]
    }
   ],
   "source": [
    "#Q7.1\n",
    "svmC = svm.SVC()\n",
    "pca=PCA(n_components=5)\n",
    "x_train_pca = pca.fit_transform(x_train)\n",
    "x_test_pca = pca.transform(x_test)\n",
    "svmC.fit(x_train_pca, y_train)\n",
    "y_pred_pca=svmC.predict(x_test_pca)\n",
    "\n",
    "print(f\"accuracy with 5 components: {accuracy_score(y_test, y_pred_pca)}\")"
   ]
  },
  {
   "cell_type": "code",
   "execution_count": 17,
   "metadata": {},
   "outputs": [
    {
     "name": "stdout",
     "output_type": "stream",
     "text": [
      "Number of components: 1 , accuracy: 0.298\n",
      "Number of components: 2 , accuracy: 0.52\n",
      "Number of components: 3 , accuracy: 0.608\n",
      "Number of components: 4 , accuracy: 0.696\n",
      "Number of components: 5 , accuracy: 0.718\n",
      "Number of components: 6 , accuracy: 0.748\n",
      "Number of components: 7 , accuracy: 0.749\n",
      "Number of components: 8 , accuracy: 0.759\n",
      "Number of components: 9 , accuracy: 0.757\n",
      "Number of components: 10 , accuracy: 0.773\n",
      "Number of components: 11 , accuracy: 0.786\n",
      "Number of components: 12 , accuracy: 0.789\n",
      "Number of components: 13 , accuracy: 0.786\n",
      "Number of components: 14 , accuracy: 0.789\n",
      "Number of components: 15 , accuracy: 0.797\n",
      "Number of components: 16 , accuracy: 0.8\n",
      "Number of components: 17 , accuracy: 0.806\n",
      "Number of components: 18 , accuracy: 0.801\n",
      "Number of components: 19 , accuracy: 0.813\n",
      "Number of components: 20 , accuracy: 0.815\n",
      "Number of components: 21 , accuracy: 0.816\n",
      "Number of components: 22 , accuracy: 0.814\n",
      "Number of components: 23 , accuracy: 0.812\n",
      "Number of components: 24 , accuracy: 0.818\n",
      "Number of components: 25 , accuracy: 0.819\n",
      "Number of components: 26 , accuracy: 0.814\n",
      "Number of components: 27 , accuracy: 0.813\n",
      "Number of components: 28 , accuracy: 0.814\n",
      "Number of components: 29 , accuracy: 0.813\n",
      "Number of components: 30 , accuracy: 0.815\n",
      "Number of components: 31 , accuracy: 0.814\n",
      "Number of components: 32 , accuracy: 0.817\n",
      "Number of components: 33 , accuracy: 0.822\n",
      "Number of components: 34 , accuracy: 0.824\n",
      "Number of components: 35 , accuracy: 0.822\n",
      "Number of components: 36 , accuracy: 0.825\n",
      "Number of components: 37 , accuracy: 0.825\n",
      "Number of components: 38 , accuracy: 0.826\n",
      "Number of components: 39 , accuracy: 0.825\n",
      "Number of components: 40 , accuracy: 0.827\n",
      "max prediction accuracy: 0.827\n"
     ]
    }
   ],
   "source": [
    "#7.2\n",
    "accuracy=[]\n",
    "\n",
    "for i in range (1,41):\n",
    "    pca = PCA(n_components= i)\n",
    "    x_train_pca = pca.fit_transform(x_train)\n",
    "    x_test_pca = pca.transform(x_test)\n",
    "    \n",
    "    svmC.fit(x_train_pca, y_train)\n",
    "    \n",
    "    y_pred_pca=svmC.predict(x_test_pca)\n",
    "    \n",
    "    accscore = accuracy_score(y_test,y_pred_pca)\n",
    "    \n",
    "    print('Number of components: ' + str(i) + ' , accuracy: ' + str(accscore))\n",
    "    \n",
    "    accuracy.append(accscore)\n",
    "\n",
    "print(f\"max prediction accuracy: {max(accuracy)}\")"
   ]
  },
  {
   "cell_type": "markdown",
   "metadata": {},
   "source": [
    "### :S8\n",
    "- Create a new feature vector for each image by selecting n random pixels from each image (instead of a PCA transform)\n",
    "- Run the k-NN with the optimal k from S2, as you did in S6, using these random pixel features.\n",
    "- Train an SVM using default parameters, as you did in S7, using these random pixel features.\n",
    "\n",
    "Q8.1: What is the prediction accuracy using only n=5 features: ___\n",
    "\n",
    "Q8.2: What is the prediction accuracy using n=30 features: ___\n",
    "\n",
    "Q8.3: What is the prediction accuracy using n=60 features: ___\n",
    "\n",
    "Q8.4: Comment on the results. Is random selection of pixels an acceptable approach? Why or why not: ___"
   ]
  },
  {
   "cell_type": "code",
   "execution_count": 18,
   "metadata": {},
   "outputs": [],
   "source": [
    "import random\n",
    "random.seed(17)\n",
    "def feature_vector(n):\n",
    "    f = random.sample(range(0, 784), n)\n",
    "    kclass= KNeighborsClassifier(n_neighbors=1)\n",
    "    kclass.fit(x_train[:,f],y_train)\n",
    "    y_pred_r=kclass.predict(x_test[:,f])\n",
    "    print(f\"k-NN accuracy n={n}: {accuracy_score(y_test, y_pred_r)}\")\n",
    "def feature_vector_s(n):\n",
    "    f = random.sample(range(0, 784), n)\n",
    "    svmC.fit(x_train[:,f],y_train)\n",
    "    y_pred_r=svmC.predict(x_test[:,f])\n",
    "    print(f\"SVM accuracy n={n}: {accuracy_score(y_test, y_pred_r)}\")"
   ]
  },
  {
   "cell_type": "code",
   "execution_count": 19,
   "metadata": {},
   "outputs": [
    {
     "name": "stdout",
     "output_type": "stream",
     "text": [
      "k-NN accuracy n=5: 0.321\n",
      "k-NN accuracy n=30: 0.697\n",
      "k-NN accuracy n=60: 0.734\n",
      "SVM accuracy n=5: 0.448\n",
      "SVM accuracy n=30: 0.736\n",
      "SVM accuracy n=60: 0.785\n"
     ]
    }
   ],
   "source": [
    "#Q8.1 - 8.3\n",
    "feature_vector(5)\n",
    "feature_vector(30)\n",
    "feature_vector(60)\n",
    "feature_vector_s(5)\n",
    "feature_vector_s(30)\n",
    "feature_vector_s(60)"
   ]
  },
  {
   "cell_type": "markdown",
   "metadata": {},
   "source": [
    "ANSWER\n",
    "Q8.4: The random selection is not a great approach relative to the pca approach. The accuracy really depends on having a larger amount of features and not finding the best combination of features like the pca. For example, with only 5 components, the PCA transformed data using the K Neighbours Classifier had an accuracy of 0.679 compared to 0.321 for the random selection. With only 40 components, the PCA transformed data using the SVM model has an accuracy of 0.827, whereas even with 60 random features, the accuracy using the SVM model was only 0.785, showing how much better the PCA coefficients are than the random selection of features."
   ]
  },
  {
   "cell_type": "code",
   "execution_count": null,
   "metadata": {},
   "outputs": [],
   "source": []
  },
  {
   "cell_type": "code",
   "execution_count": null,
   "metadata": {},
   "outputs": [],
   "source": []
  },
  {
   "cell_type": "code",
   "execution_count": null,
   "metadata": {},
   "outputs": [],
   "source": []
  }
 ],
 "metadata": {
  "kernelspec": {
   "display_name": "Python 3",
   "language": "python",
   "name": "python3"
  },
  "language_info": {
   "codemirror_mode": {
    "name": "ipython",
    "version": 3
   },
   "file_extension": ".py",
   "mimetype": "text/x-python",
   "name": "python",
   "nbconvert_exporter": "python",
   "pygments_lexer": "ipython3",
   "version": "3.8.5"
  }
 },
 "nbformat": 4,
 "nbformat_minor": 4
}
