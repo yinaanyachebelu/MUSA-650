{
 "cells": [
  {
   "cell_type": "markdown",
   "metadata": {},
   "source": [
    " ## HW4 - Satellite Images of Hurricane Damage\n",
    " \n",
    "In this homework you will work on an actual Kaggle competition. The instructions and guidance will be at a minimum level, just to encourage your independence and creativity.\n",
    "\n",
    "Feel free to read, re-run and use existing Jupyter notebooks in the competition page. Going over examples is a great way of learning. However, please don't copy/paste parts of the code without first fully understanding them.\n",
    "\n",
    "The data size for this homework may result in longer running times, depending on your hardware configuration. If so, you may do the following:\n",
    "- Select a smaller \"pilot\" dataset (e.g. 20% of the data)\n",
    "- Implement and test your code using this pilot data, and\n",
    "- Once you have a final version, run it on the complete set"
   ]
  },
  {
   "cell_type": "markdown",
   "metadata": {},
   "source": [
    "### S1:\n",
    "\n",
    "- Visit the Kaggle competition \"Satellite Images of Hurricane Damage\": https://www.kaggle.com/kmader/satellite-images-of-hurricane-damage\n",
    "- Check the description, data, activities and scripts.\n",
    "- Download the data to your PC/laptop.\n",
    "- Combine the training and validation subsets into one larger training set.\n",
    "- There are two test sets: one is balanced (equal number of points for each class), and one is unbalanced. You will be using both.\n",
    "\n",
    "Q1.1: What is the number of images in the whole dataset:   ___\n",
    "\n",
    "Q1.2: What are the numbers of images in each subset of the data: ___\n",
    "\n",
    "Q1.3: What is the number of different labels in this dataset:   ___\n",
    "\n",
    "Q1.4: What is the size of each image in this dataset:   ___"
   ]
  },
  {
   "cell_type": "markdown",
   "metadata": {},
   "source": [
    "### S2:\n",
    "\n",
    "- Convert the 3-channel (RGB) images to single-channel (Gray) *(hint: scikit has the function rgb2gray())*\n",
    "- Flatten the images into a data matrix $X$, and create a label vector $y$, for each subset of the data.\n",
    "\n",
    "Q2.1: Apply PCA on each subset separately, and then together on the entire dataset.\n",
    "\n",
    "Q2.2: Display the first 4 principal components as 2D images for each case (3 subsets, and the whole dataset). *(Hint: try Image.fromarray() from the PIL package)*\n",
    "\n",
    "Q2.3: Fill out the table below.\n",
    "\n",
    "| Subset | Variance Explained by 5 PCs | # PCs to explain at least 50% of variance |\n",
    "| :-: | --- | --- |\n",
    "| Training + Validation |  |  |\n",
    "| Balanced Test |  |  |\n",
    "| Unbalanced Test |  |  |\n",
    "| Entire Dataset |  |  |\n",
    "\n",
    "Q2.4: Comment on your results."
   ]
  },
  {
   "cell_type": "markdown",
   "metadata": {},
   "source": [
    "### S3:\n",
    "Apply k-means clustering on the training images for 2 clusters. Calculate the \"mean\" image for each cluster and display it.\n",
    "\n",
    "Q3.1: What is the accuracy on the balanced test set: ____\n",
    "\n",
    "Q3.2: What is the accuracy on the unbalanced test set: ____\n",
    "\n",
    "Q3.3: Show a two-by-two confusion matrix for the balanced test set (to display the number/percentage of samples in clusters 1/2 and with labels 0/1)"
   ]
  },
  {
   "cell_type": "markdown",
   "metadata": {},
   "source": [
    "### S4:\n",
    "- Train a SVM with default parameters\n",
    "- Apply it on the balanced test dataset.\n",
    "- Apply it on the unbalanced test set\n",
    "\n",
    "Q4.1 Fill out the table below.\n",
    "\n",
    "| Subset | Training Accuracy | Testing Accuracy | AUC |\n",
    "| :-: | --- | --- | --- |\n",
    "| Balanced Test |  |  |  |\n",
    "| Unbalanced Test |  |  |  |\n",
    "\n",
    "Q6.2: Comment on these results. Are we missing something? What other metrics should we consider?"
   ]
  },
  {
   "cell_type": "markdown",
   "metadata": {},
   "source": [
    "### S5:\n",
    "- Repeat S4 using the PCA components from S2.\n",
    "\n",
    "Q5.1 Fill out the table below.\n",
    "\n",
    "| Subset | Training Accuracy | Testing Accuracy | AUC |\n",
    "| :-: | --- | --- | --- |\n",
    "| Balanced Test |  |  |  |\n",
    "| Unbalanced Test |  |  |  |_\n",
    "\n",
    "Q5.2: Compare your results with S4. What else should we consider?"
   ]
  },
  {
   "cell_type": "markdown",
   "metadata": {},
   "source": [
    "### S6:\n",
    "- Train \"your best classifier\". You can use parameter optimization, different classifiers, feature dimensionality reduction, or any other processing step for feature extraction on the data.\n",
    "- Add comments in your script to make it understandable to others.\n",
    "- Make sure that you cross-validate your classifier properly.\n",
    "- The 3 classifiers with the highest accuracy will have a bonus proportional with their rank.\n",
    "\n",
    "Q6.1: What is the 10-fold testing accuracy of your classifier?\n"
   ]
  }
 ],
 "metadata": {
  "kernelspec": {
   "display_name": "Python 3",
   "language": "python",
   "name": "python3"
  },
  "language_info": {
   "codemirror_mode": {
    "name": "ipython",
    "version": 3
   },
   "file_extension": ".py",
   "mimetype": "text/x-python",
   "name": "python",
   "nbconvert_exporter": "python",
   "pygments_lexer": "ipython3",
   "version": "3.8.5"
  }
 },
 "nbformat": 4,
 "nbformat_minor": 4
}
